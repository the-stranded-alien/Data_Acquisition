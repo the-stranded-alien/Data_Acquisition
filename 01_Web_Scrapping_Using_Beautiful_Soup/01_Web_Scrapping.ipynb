{
 "cells": [
  {
   "cell_type": "markdown",
   "metadata": {},
   "source": [
    "## Data Scraping Using Beautiful Soup\n",
    "\n",
    "- Beautiful Soup\n",
    "- Make a GET Request to Fetch Page Data\n",
    "- Parse HTML\n",
    "- Filter Relevant Parts"
   ]
  },
  {
   "cell_type": "markdown",
   "metadata": {},
   "source": [
    "### 1. Fetching Data"
   ]
  },
  {
   "cell_type": "code",
   "execution_count": 1,
   "metadata": {},
   "outputs": [],
   "source": [
    "# Installation\n",
    "# !pip install bs4"
   ]
  },
  {
   "cell_type": "code",
   "execution_count": 2,
   "metadata": {},
   "outputs": [],
   "source": [
    "import pandas as pd\n",
    "from urllib.request import urlopen\n"
   ]
  },
  {
   "cell_type": "code",
   "execution_count": 3,
   "metadata": {},
   "outputs": [],
   "source": [
    "android_url = \"https://en.wikipedia.org/wiki/Android_version_history\""
   ]
  },
  {
   "cell_type": "code",
   "execution_count": 4,
   "metadata": {},
   "outputs": [
    {
     "name": "stdout",
     "output_type": "stream",
     "text": [
      "<class 'http.client.HTTPResponse'>\n"
     ]
    }
   ],
   "source": [
    "android_data = urlopen(android_url)\n",
    "print(type(android_data))"
   ]
  },
  {
   "cell_type": "code",
   "execution_count": 5,
   "metadata": {},
   "outputs": [],
   "source": [
    "android_html = android_data.read()\n",
    "# print(android_html)"
   ]
  },
  {
   "cell_type": "code",
   "execution_count": 6,
   "metadata": {},
   "outputs": [],
   "source": [
    "android_data.close()"
   ]
  },
  {
   "cell_type": "markdown",
   "metadata": {},
   "source": [
    "### 2. Parsing Data"
   ]
  },
  {
   "cell_type": "code",
   "execution_count": 7,
   "metadata": {},
   "outputs": [],
   "source": [
    "from bs4 import BeautifulSoup as soup"
   ]
  },
  {
   "cell_type": "code",
   "execution_count": 8,
   "metadata": {},
   "outputs": [],
   "source": [
    "android_soup = soup(android_html, 'html.parser')\n",
    "# print(android_soup)"
   ]
  },
  {
   "cell_type": "code",
   "execution_count": 9,
   "metadata": {},
   "outputs": [
    {
     "name": "stdout",
     "output_type": "stream",
     "text": [
      "<class 'bs4.BeautifulSoup'>\n"
     ]
    }
   ],
   "source": [
    "print(type(android_soup))"
   ]
  },
  {
   "cell_type": "code",
   "execution_count": 10,
   "metadata": {},
   "outputs": [
    {
     "name": "stdout",
     "output_type": "stream",
     "text": [
      "<h1 class=\"firstHeading\" id=\"firstHeading\" lang=\"en\">Android version history</h1>\n"
     ]
    }
   ],
   "source": [
    "print(android_soup.h1)"
   ]
  },
  {
   "cell_type": "code",
   "execution_count": 11,
   "metadata": {},
   "outputs": [
    {
     "name": "stdout",
     "output_type": "stream",
     "text": [
      "[<h1 class=\"firstHeading\" id=\"firstHeading\" lang=\"en\">Android version history</h1>]\n"
     ]
    }
   ],
   "source": [
    "print(android_soup.findAll('h1', {}))"
   ]
  },
  {
   "cell_type": "code",
   "execution_count": 12,
   "metadata": {},
   "outputs": [
    {
     "name": "stdout",
     "output_type": "stream",
     "text": [
      "31\n"
     ]
    }
   ],
   "source": [
    "tables = android_soup.findAll('table', {'class':'wikitable'})\n",
    "print(len(tables))"
   ]
  },
  {
   "cell_type": "code",
   "execution_count": 13,
   "metadata": {},
   "outputs": [
    {
     "name": "stdout",
     "output_type": "stream",
     "text": [
      "<table class=\"wikitable\">\n",
      "<tbody><tr>\n",
      "<th>Name\n",
      "</th>\n",
      "<th>Version number(s)\n",
      "</th>\n",
      "<th>Initial release date\n",
      "</th>\n",
      "<th>Supported\n",
      "</th>\n",
      "<th>API level\n",
      "</th>\n",
      "<th>References\n",
      "</th></tr>\n",
      "<tr>\n",
      "<td rowspan=\"2\">No codename\n",
      "</td>\n",
      "<td>1.0\n",
      "</td>\n",
      "<td>September 23, 2008\n",
      "</td>\n",
      "<td>No\n",
      "</td>\n",
      "<td>1\n",
      "</td>\n",
      "<td><sup class=\"reference\" id=\"cite_ref-unofficial_and_official_codenames_9-1\"><a href=\"#cite_note-unofficial_and_official_codenames-9\">[9]</a></sup>\n",
      "</td></tr>\n",
      "<tr>\n",
      "<td>1.1\n",
      "</td>\n",
      "<td>February 9, 2009\n",
      "</td>\n",
      "<td>No\n",
      "</td>\n",
      "<td>2\n",
      "</td>\n",
      "<td><sup class=\"reference\" id=\"cite_ref-unofficial_and_official_codenames_9-2\"><a href=\"#cite_note-unofficial_and_official_codenames-9\">[9]</a></sup><sup class=\"reference\" id=\"cite_ref-11\"><a href=\"#cite_note-11\">[11]</a></sup>\n",
      "</td></tr>\n",
      "<tr>\n",
      "<td><a href=\"/wiki/Android_Cupcake\" title=\"Android Cupcake\">Cupcake</a>\n",
      "</td>\n",
      "<td>1.5\n",
      "</td>\n",
      "<td>April 27, 2009\n",
      "</td>\n",
      "<td>No\n",
      "</td>\n",
      "<td>3\n",
      "</td>\n",
      "<td>\n",
      "</td></tr>\n",
      "<tr>\n",
      "<td><a href=\"/wiki/Android_Donut\" title=\"Android Donut\">Donut</a>\n",
      "</td>\n",
      "<td>1.6\n",
      "</td>\n",
      "<td>September 15, 2009\n",
      "</td>\n",
      "<td>No\n",
      "</td>\n",
      "<td>4\n",
      "</td>\n",
      "<td><sup class=\"reference\" id=\"cite_ref-12\"><a href=\"#cite_note-12\">[12]</a></sup>\n",
      "</td></tr>\n",
      "<tr>\n",
      "<td><a href=\"/wiki/Android_Eclair\" title=\"Android Eclair\">Eclair</a>\n",
      "</td>\n",
      "<td>2.0 – 2.1\n",
      "</td>\n",
      "<td>October 26, 2009\n",
      "</td>\n",
      "<td>No\n",
      "</td>\n",
      "<td>5 – 7\n",
      "</td>\n",
      "<td><sup class=\"reference\" id=\"cite_ref-13\"><a href=\"#cite_note-13\">[13]</a></sup>\n",
      "</td></tr>\n",
      "<tr>\n",
      "<td><a href=\"/wiki/Android_Froyo\" title=\"Android Froyo\">Froyo</a>\n",
      "</td>\n",
      "<td>2.2 – 2.2.3\n",
      "</td>\n",
      "<td>May 20, 2010\n",
      "</td>\n",
      "<td>No\n",
      "</td>\n",
      "<td>8\n",
      "</td>\n",
      "<td><sup class=\"reference\" id=\"cite_ref-14\"><a href=\"#cite_note-14\">[14]</a></sup>\n",
      "</td></tr>\n",
      "<tr>\n",
      "<td><a href=\"/wiki/Android_Gingerbread\" title=\"Android Gingerbread\">Gingerbread</a>\n",
      "</td>\n",
      "<td>2.3 – 2.3.7\n",
      "</td>\n",
      "<td>December 6, 2010\n",
      "</td>\n",
      "<td>No\n",
      "</td>\n",
      "<td>9 – 10\n",
      "</td>\n",
      "<td><sup class=\"reference\" id=\"cite_ref-15\"><a href=\"#cite_note-15\">[15]</a></sup>\n",
      "</td></tr>\n",
      "<tr>\n",
      "<td><a href=\"/wiki/Android_Honeycomb\" title=\"Android Honeycomb\">Honeycomb</a>\n",
      "</td>\n",
      "<td>3.0 – 3.2.6\n",
      "</td>\n",
      "<td>February 22, 2011\n",
      "</td>\n",
      "<td>No\n",
      "</td>\n",
      "<td>11 – 13\n",
      "</td>\n",
      "<td><sup class=\"reference\" id=\"cite_ref-16\"><a href=\"#cite_note-16\">[16]</a></sup>\n",
      "</td></tr>\n",
      "<tr>\n",
      "<td><a href=\"/wiki/Android_Ice_Cream_Sandwich\" title=\"Android Ice Cream Sandwich\">Ice Cream Sandwich</a>\n",
      "</td>\n",
      "<td>4.0 – 4.0.4\n",
      "</td>\n",
      "<td>October 18, 2011\n",
      "</td>\n",
      "<td>No\n",
      "</td>\n",
      "<td>14 – 15\n",
      "</td>\n",
      "<td><sup class=\"reference\" id=\"cite_ref-17\"><a href=\"#cite_note-17\">[17]</a></sup>\n",
      "</td></tr>\n",
      "<tr>\n",
      "<td><a href=\"/wiki/Android_Jelly_Bean\" title=\"Android Jelly Bean\">Jelly Bean</a>\n",
      "</td>\n",
      "<td>4.1 – 4.3.1\n",
      "</td>\n",
      "<td>July 9, 2012\n",
      "</td>\n",
      "<td>No\n",
      "</td>\n",
      "<td>16 – 18\n",
      "</td>\n",
      "<td><sup class=\"reference\" id=\"cite_ref-18\"><a href=\"#cite_note-18\">[18]</a></sup>\n",
      "</td></tr>\n",
      "<tr>\n",
      "<td><a href=\"/wiki/Android_KitKat\" title=\"Android KitKat\">KitKat</a>\n",
      "</td>\n",
      "<td>4.4 – 4.4.4\n",
      "</td>\n",
      "<td>October 31, 2013\n",
      "</td>\n",
      "<td>No\n",
      "</td>\n",
      "<td>19 – 20\n",
      "</td>\n",
      "<td><sup class=\"reference\" id=\"cite_ref-19\"><a href=\"#cite_note-19\">[19]</a></sup>\n",
      "</td></tr>\n",
      "<tr>\n",
      "<td><a href=\"/wiki/Android_Lollipop\" title=\"Android Lollipop\">Lollipop</a>\n",
      "</td>\n",
      "<td>5.0 – 5.1.1\n",
      "</td>\n",
      "<td>November 12, 2014\n",
      "</td>\n",
      "<td>No\n",
      "</td>\n",
      "<td>21 – 22\n",
      "</td>\n",
      "<td><sup class=\"reference\" id=\"cite_ref-20\"><a href=\"#cite_note-20\">[20]</a></sup>\n",
      "</td></tr>\n",
      "<tr>\n",
      "<td><a href=\"/wiki/Android_Marshmallow\" title=\"Android Marshmallow\">Marshmallow</a>\n",
      "</td>\n",
      "<td>6.0 – 6.0.1\n",
      "</td>\n",
      "<td>October 5, 2015\n",
      "</td>\n",
      "<td>No\n",
      "</td>\n",
      "<td>23\n",
      "</td>\n",
      "<td><sup class=\"reference\" id=\"cite_ref-21\"><a href=\"#cite_note-21\">[21]</a></sup>\n",
      "</td></tr>\n",
      "<tr>\n",
      "<td><a href=\"/wiki/Android_Nougat\" title=\"Android Nougat\">Nougat</a>\n",
      "</td>\n",
      "<td>7.0 – 7.1.2\n",
      "</td>\n",
      "<td>August 22, 2016\n",
      "</td>\n",
      "<td>No\n",
      "</td>\n",
      "<td>24 – 25\n",
      "</td>\n",
      "<td><sup class=\"reference\" id=\"cite_ref-22\"><a href=\"#cite_note-22\">[22]</a></sup><sup class=\"reference\" id=\"cite_ref-23\"><a href=\"#cite_note-23\">[23]</a></sup><sup class=\"reference\" id=\"cite_ref-24\"><a href=\"#cite_note-24\">[24]</a></sup><sup class=\"reference\" id=\"cite_ref-25\"><a href=\"#cite_note-25\">[25]</a></sup>\n",
      "</td></tr>\n",
      "<tr>\n",
      "<td><a href=\"/wiki/Android_Oreo\" title=\"Android Oreo\">Oreo</a>\n",
      "</td>\n",
      "<td>8.0 – 8.1\n",
      "</td>\n",
      "<td>August 21, 2017\n",
      "</td>\n",
      "<td>Yes\n",
      "</td>\n",
      "<td>26 – 27\n",
      "</td>\n",
      "<td><sup class=\"reference\" id=\"cite_ref-26\"><a href=\"#cite_note-26\">[26]</a></sup>\n",
      "</td></tr>\n",
      "<tr>\n",
      "<td><a href=\"/wiki/Android_Pie\" title=\"Android Pie\">Pie</a>\n",
      "</td>\n",
      "<td>9\n",
      "</td>\n",
      "<td>August 6, 2018\n",
      "</td>\n",
      "<td>Yes\n",
      "</td>\n",
      "<td>28\n",
      "</td>\n",
      "<td><sup class=\"reference\" id=\"cite_ref-27\"><a href=\"#cite_note-27\">[27]</a></sup>\n",
      "</td></tr>\n",
      "<tr>\n",
      "<td><a href=\"/wiki/Android_10\" title=\"Android 10\">Android 10</a>\n",
      "</td>\n",
      "<td>10\n",
      "</td>\n",
      "<td>September 3, 2019\n",
      "</td>\n",
      "<td>Yes\n",
      "</td>\n",
      "<td>29\n",
      "</td>\n",
      "<td><sup class=\"reference\" id=\"cite_ref-28\"><a href=\"#cite_note-28\">[28]</a></sup>\n",
      "</td></tr>\n",
      "<tr>\n",
      "<td><a href=\"/wiki/Android_11\" title=\"Android 11\">Android 11</a>\n",
      "</td>\n",
      "<td>11\n",
      "</td>\n",
      "<td>February 19, 2020\n",
      "</td>\n",
      "<td>Yes\n",
      "</td>\n",
      "<td>30\n",
      "</td>\n",
      "<td>\n",
      "</td></tr></tbody></table>\n"
     ]
    }
   ],
   "source": [
    "android_table = tables[0]\n",
    "print(android_table)"
   ]
  },
  {
   "cell_type": "markdown",
   "metadata": {},
   "source": [
    "### 3. Extracting Useful Information\n",
    "\n",
    "- Remove Undesired Tags\n",
    "- Extract Table Header & Data"
   ]
  },
  {
   "cell_type": "code",
   "execution_count": 14,
   "metadata": {},
   "outputs": [
    {
     "name": "stdout",
     "output_type": "stream",
     "text": [
      "[<th>Name\n",
      "</th>, <th>Version number(s)\n",
      "</th>, <th>Initial release date\n",
      "</th>, <th>Supported\n",
      "</th>, <th>API level\n",
      "</th>, <th>References\n",
      "</th>]\n"
     ]
    }
   ],
   "source": [
    "headers = android_table.findAll('th')\n",
    "print(headers)"
   ]
  },
  {
   "cell_type": "code",
   "execution_count": 15,
   "metadata": {},
   "outputs": [
    {
     "name": "stdout",
     "output_type": "stream",
     "text": [
      "6\n"
     ]
    }
   ],
   "source": [
    "print(len(headers))"
   ]
  },
  {
   "cell_type": "code",
   "execution_count": 16,
   "metadata": {},
   "outputs": [
    {
     "name": "stdout",
     "output_type": "stream",
     "text": [
      "Name\n",
      "\n"
     ]
    }
   ],
   "source": [
    "print(headers[0].text)"
   ]
  },
  {
   "cell_type": "code",
   "execution_count": 17,
   "metadata": {},
   "outputs": [
    {
     "name": "stdout",
     "output_type": "stream",
     "text": [
      "['Name', 'Version number(s)', 'Initial release date', 'Supported', 'API level', 'References']\n"
     ]
    }
   ],
   "source": [
    "column_title = [ct.text[:-1] for ct in headers]\n",
    "print(column_title)"
   ]
  },
  {
   "cell_type": "code",
   "execution_count": 18,
   "metadata": {},
   "outputs": [
    {
     "name": "stdout",
     "output_type": "stream",
     "text": [
      "18\n"
     ]
    }
   ],
   "source": [
    "rows_data = android_table.findAll('tr')[1:]\n",
    "print(len(rows_data))"
   ]
  },
  {
   "cell_type": "code",
   "execution_count": 19,
   "metadata": {},
   "outputs": [
    {
     "name": "stdout",
     "output_type": "stream",
     "text": [
      "<tr>\n",
      "<td rowspan=\"2\">No codename\n",
      "</td>\n",
      "<td>1.0\n",
      "</td>\n",
      "<td>September 23, 2008\n",
      "</td>\n",
      "<td>No\n",
      "</td>\n",
      "<td>1\n",
      "</td>\n",
      "<td><sup class=\"reference\" id=\"cite_ref-unofficial_and_official_codenames_9-1\"><a href=\"#cite_note-unofficial_and_official_codenames-9\">[9]</a></sup>\n",
      "</td></tr>\n"
     ]
    }
   ],
   "source": [
    "print(rows_data[0])"
   ]
  },
  {
   "cell_type": "code",
   "execution_count": 20,
   "metadata": {},
   "outputs": [
    {
     "name": "stdout",
     "output_type": "stream",
     "text": [
      "No codename\n",
      "\n",
      "1.0\n",
      "\n",
      "September 23, 2008\n",
      "\n",
      "No\n",
      "\n",
      "1\n",
      "\n",
      "[9]\n",
      "\n"
     ]
    }
   ],
   "source": [
    "first_row = rows_data[0].findAll('td', {})\n",
    "for d in first_row:\n",
    "    print(d.text)"
   ]
  },
  {
   "cell_type": "code",
   "execution_count": 21,
   "metadata": {},
   "outputs": [],
   "source": [
    "table_rows = []\n",
    "for row in rows_data:\n",
    "    current_row = []\n",
    "    row_data = row.findAll('td', {})\n",
    "    for idx, data in enumerate(row_data):\n",
    "        current_row.append(data.text[:-1])\n",
    "    table_rows.append(current_row)"
   ]
  },
  {
   "cell_type": "code",
   "execution_count": 22,
   "metadata": {},
   "outputs": [
    {
     "name": "stdout",
     "output_type": "stream",
     "text": [
      "[['No codename', '1.0', 'September 23, 2008', 'No', '1', '[9]'], ['1.1', 'February 9, 2009', 'No', '2', '[9][11]'], ['Cupcake', '1.5', 'April 27, 2009', 'No', '3', ''], ['Donut', '1.6', 'September 15, 2009', 'No', '4', '[12]'], ['Eclair', '2.0 – 2.1', 'October 26, 2009', 'No', '5 – 7', '[13]'], ['Froyo', '2.2 – 2.2.3', 'May 20, 2010', 'No', '8', '[14]'], ['Gingerbread', '2.3 – 2.3.7', 'December 6, 2010', 'No', '9 – 10', '[15]'], ['Honeycomb', '3.0 – 3.2.6', 'February 22, 2011', 'No', '11 – 13', '[16]'], ['Ice Cream Sandwich', '4.0 – 4.0.4', 'October 18, 2011', 'No', '14 – 15', '[17]'], ['Jelly Bean', '4.1 – 4.3.1', 'July 9, 2012', 'No', '16 – 18', '[18]'], ['KitKat', '4.4 – 4.4.4', 'October 31, 2013', 'No', '19 – 20', '[19]'], ['Lollipop', '5.0 – 5.1.1', 'November 12, 2014', 'No', '21 – 22', '[20]'], ['Marshmallow', '6.0 – 6.0.1', 'October 5, 2015', 'No', '23', '[21]'], ['Nougat', '7.0 – 7.1.2', 'August 22, 2016', 'No', '24 – 25', '[22][23][24][25]'], ['Oreo', '8.0 – 8.1', 'August 21, 2017', 'Yes', '26 – 27', '[26]'], ['Pie', '9', 'August 6, 2018', 'Yes', '28', '[27]'], ['Android 10', '10', 'September 3, 2019', 'Yes', '29', '[28]'], ['Android 11', '11', 'February 19, 2020', 'Yes', '30', '']]\n"
     ]
    }
   ],
   "source": [
    "print(table_rows)"
   ]
  },
  {
   "cell_type": "markdown",
   "metadata": {},
   "source": [
    "### 4. Writing & Reading CSV Files"
   ]
  },
  {
   "cell_type": "code",
   "execution_count": 23,
   "metadata": {},
   "outputs": [],
   "source": [
    "filename = \"Android_Version_History.csv\"\n",
    "\n",
    "with open(filename, 'w', encoding='utf-8') as f:\n",
    "    \n",
    "    # Write The Header\n",
    "    header_string = \",\".join(column_title)\n",
    "    header_string += '\\n'\n",
    "    f.write(header_string)\n",
    "    \n",
    "    # Write Row Data\n",
    "    for row in table_rows:\n",
    "        row_string = \"\"\n",
    "        row_string = ','.join(row)\n",
    "        row_string += '\\n'\n",
    "        f.write(row_string)"
   ]
  },
  {
   "cell_type": "markdown",
   "metadata": {},
   "source": [
    "### 5. Data Cleaning\n",
    "\n",
    "- Remove Unwanted Commas & Symbols\n",
    "- Remove Undesired Information"
   ]
  },
  {
   "cell_type": "code",
   "execution_count": 24,
   "metadata": {},
   "outputs": [],
   "source": [
    "filename = \"Android_Version_History.csv\"\n",
    "\n",
    "with open(filename, 'w', encoding='utf-8') as f:\n",
    "    \n",
    "    # Write The Header\n",
    "    header_string = \",\".join(column_title)\n",
    "    header_string += '\\n'\n",
    "    f.write(header_string)\n",
    "    \n",
    "    # Write Row Data\n",
    "    for idx, row in enumerate(table_rows):\n",
    "        if idx==1:\n",
    "            row_string = \"No codename,\"\n",
    "        else:\n",
    "            row_string = \"\"\n",
    "        for w in row:\n",
    "            w = w.replace(',', '')\n",
    "            row_string += w + \",\"\n",
    "        row_string = row_string[:-1]\n",
    "        row_string += '\\n'\n",
    "        f.write(row_string)"
   ]
  },
  {
   "cell_type": "code",
   "execution_count": 25,
   "metadata": {},
   "outputs": [
    {
     "data": {
      "text/html": [
       "<div>\n",
       "<style scoped>\n",
       "    .dataframe tbody tr th:only-of-type {\n",
       "        vertical-align: middle;\n",
       "    }\n",
       "\n",
       "    .dataframe tbody tr th {\n",
       "        vertical-align: top;\n",
       "    }\n",
       "\n",
       "    .dataframe thead th {\n",
       "        text-align: right;\n",
       "    }\n",
       "</style>\n",
       "<table border=\"1\" class=\"dataframe\">\n",
       "  <thead>\n",
       "    <tr style=\"text-align: right;\">\n",
       "      <th></th>\n",
       "      <th>Name</th>\n",
       "      <th>Version number(s)</th>\n",
       "      <th>Initial release date</th>\n",
       "      <th>Supported</th>\n",
       "      <th>API level</th>\n",
       "      <th>References</th>\n",
       "    </tr>\n",
       "  </thead>\n",
       "  <tbody>\n",
       "    <tr>\n",
       "      <th>0</th>\n",
       "      <td>No codename</td>\n",
       "      <td>1.0</td>\n",
       "      <td>September 23 2008</td>\n",
       "      <td>No</td>\n",
       "      <td>1</td>\n",
       "      <td>[9]</td>\n",
       "    </tr>\n",
       "    <tr>\n",
       "      <th>1</th>\n",
       "      <td>No codename</td>\n",
       "      <td>1.1</td>\n",
       "      <td>February 9 2009</td>\n",
       "      <td>No</td>\n",
       "      <td>2</td>\n",
       "      <td>[9][11]</td>\n",
       "    </tr>\n",
       "    <tr>\n",
       "      <th>2</th>\n",
       "      <td>Cupcake</td>\n",
       "      <td>1.5</td>\n",
       "      <td>April 27 2009</td>\n",
       "      <td>No</td>\n",
       "      <td>3</td>\n",
       "      <td>NaN</td>\n",
       "    </tr>\n",
       "    <tr>\n",
       "      <th>3</th>\n",
       "      <td>Donut</td>\n",
       "      <td>1.6</td>\n",
       "      <td>September 15 2009</td>\n",
       "      <td>No</td>\n",
       "      <td>4</td>\n",
       "      <td>[12]</td>\n",
       "    </tr>\n",
       "    <tr>\n",
       "      <th>4</th>\n",
       "      <td>Eclair</td>\n",
       "      <td>2.0 – 2.1</td>\n",
       "      <td>October 26 2009</td>\n",
       "      <td>No</td>\n",
       "      <td>5 – 7</td>\n",
       "      <td>[13]</td>\n",
       "    </tr>\n",
       "  </tbody>\n",
       "</table>\n",
       "</div>"
      ],
      "text/plain": [
       "          Name Version number(s) Initial release date Supported API level  \\\n",
       "0  No codename               1.0    September 23 2008        No         1   \n",
       "1  No codename               1.1      February 9 2009        No         2   \n",
       "2      Cupcake               1.5        April 27 2009        No         3   \n",
       "3        Donut               1.6    September 15 2009        No         4   \n",
       "4       Eclair         2.0 – 2.1      October 26 2009        No     5 – 7   \n",
       "\n",
       "  References  \n",
       "0        [9]  \n",
       "1    [9][11]  \n",
       "2        NaN  \n",
       "3       [12]  \n",
       "4       [13]  "
      ]
     },
     "execution_count": 25,
     "metadata": {},
     "output_type": "execute_result"
    }
   ],
   "source": [
    "df = pd.read_csv(\"Android_Version_History.csv\")\n",
    "df.head()"
   ]
  },
  {
   "cell_type": "code",
   "execution_count": 26,
   "metadata": {},
   "outputs": [
    {
     "data": {
      "text/html": [
       "<div>\n",
       "<style scoped>\n",
       "    .dataframe tbody tr th:only-of-type {\n",
       "        vertical-align: middle;\n",
       "    }\n",
       "\n",
       "    .dataframe tbody tr th {\n",
       "        vertical-align: top;\n",
       "    }\n",
       "\n",
       "    .dataframe thead th {\n",
       "        text-align: right;\n",
       "    }\n",
       "</style>\n",
       "<table border=\"1\" class=\"dataframe\">\n",
       "  <thead>\n",
       "    <tr style=\"text-align: right;\">\n",
       "      <th></th>\n",
       "      <th>Name</th>\n",
       "      <th>Version number(s)</th>\n",
       "      <th>Initial release date</th>\n",
       "      <th>Supported</th>\n",
       "      <th>API level</th>\n",
       "      <th>References</th>\n",
       "    </tr>\n",
       "  </thead>\n",
       "  <tbody>\n",
       "    <tr>\n",
       "      <th>0</th>\n",
       "      <td>No codename</td>\n",
       "      <td>1.0</td>\n",
       "      <td>September 23 2008</td>\n",
       "      <td>No</td>\n",
       "      <td>1</td>\n",
       "      <td>[9]</td>\n",
       "    </tr>\n",
       "    <tr>\n",
       "      <th>1</th>\n",
       "      <td>No codename</td>\n",
       "      <td>1.1</td>\n",
       "      <td>February 9 2009</td>\n",
       "      <td>No</td>\n",
       "      <td>2</td>\n",
       "      <td>[9][11]</td>\n",
       "    </tr>\n",
       "    <tr>\n",
       "      <th>2</th>\n",
       "      <td>Cupcake</td>\n",
       "      <td>1.5</td>\n",
       "      <td>April 27 2009</td>\n",
       "      <td>No</td>\n",
       "      <td>3</td>\n",
       "      <td>NaN</td>\n",
       "    </tr>\n",
       "    <tr>\n",
       "      <th>3</th>\n",
       "      <td>Donut</td>\n",
       "      <td>1.6</td>\n",
       "      <td>September 15 2009</td>\n",
       "      <td>No</td>\n",
       "      <td>4</td>\n",
       "      <td>[12]</td>\n",
       "    </tr>\n",
       "    <tr>\n",
       "      <th>4</th>\n",
       "      <td>Eclair</td>\n",
       "      <td>2.0 – 2.1</td>\n",
       "      <td>October 26 2009</td>\n",
       "      <td>No</td>\n",
       "      <td>5 – 7</td>\n",
       "      <td>[13]</td>\n",
       "    </tr>\n",
       "    <tr>\n",
       "      <th>5</th>\n",
       "      <td>Froyo</td>\n",
       "      <td>2.2 – 2.2.3</td>\n",
       "      <td>May 20 2010</td>\n",
       "      <td>No</td>\n",
       "      <td>8</td>\n",
       "      <td>[14]</td>\n",
       "    </tr>\n",
       "    <tr>\n",
       "      <th>6</th>\n",
       "      <td>Gingerbread</td>\n",
       "      <td>2.3 – 2.3.7</td>\n",
       "      <td>December 6 2010</td>\n",
       "      <td>No</td>\n",
       "      <td>9 – 10</td>\n",
       "      <td>[15]</td>\n",
       "    </tr>\n",
       "    <tr>\n",
       "      <th>7</th>\n",
       "      <td>Honeycomb</td>\n",
       "      <td>3.0 – 3.2.6</td>\n",
       "      <td>February 22 2011</td>\n",
       "      <td>No</td>\n",
       "      <td>11 – 13</td>\n",
       "      <td>[16]</td>\n",
       "    </tr>\n",
       "    <tr>\n",
       "      <th>8</th>\n",
       "      <td>Ice Cream Sandwich</td>\n",
       "      <td>4.0 – 4.0.4</td>\n",
       "      <td>October 18 2011</td>\n",
       "      <td>No</td>\n",
       "      <td>14 – 15</td>\n",
       "      <td>[17]</td>\n",
       "    </tr>\n",
       "    <tr>\n",
       "      <th>9</th>\n",
       "      <td>Jelly Bean</td>\n",
       "      <td>4.1 – 4.3.1</td>\n",
       "      <td>July 9 2012</td>\n",
       "      <td>No</td>\n",
       "      <td>16 – 18</td>\n",
       "      <td>[18]</td>\n",
       "    </tr>\n",
       "    <tr>\n",
       "      <th>10</th>\n",
       "      <td>KitKat</td>\n",
       "      <td>4.4 – 4.4.4</td>\n",
       "      <td>October 31 2013</td>\n",
       "      <td>No</td>\n",
       "      <td>19 – 20</td>\n",
       "      <td>[19]</td>\n",
       "    </tr>\n",
       "    <tr>\n",
       "      <th>11</th>\n",
       "      <td>Lollipop</td>\n",
       "      <td>5.0 – 5.1.1</td>\n",
       "      <td>November 12 2014</td>\n",
       "      <td>No</td>\n",
       "      <td>21 – 22</td>\n",
       "      <td>[20]</td>\n",
       "    </tr>\n",
       "    <tr>\n",
       "      <th>12</th>\n",
       "      <td>Marshmallow</td>\n",
       "      <td>6.0 – 6.0.1</td>\n",
       "      <td>October 5 2015</td>\n",
       "      <td>No</td>\n",
       "      <td>23</td>\n",
       "      <td>[21]</td>\n",
       "    </tr>\n",
       "    <tr>\n",
       "      <th>13</th>\n",
       "      <td>Nougat</td>\n",
       "      <td>7.0 – 7.1.2</td>\n",
       "      <td>August 22 2016</td>\n",
       "      <td>No</td>\n",
       "      <td>24 – 25</td>\n",
       "      <td>[22][23][24][25]</td>\n",
       "    </tr>\n",
       "    <tr>\n",
       "      <th>14</th>\n",
       "      <td>Oreo</td>\n",
       "      <td>8.0 – 8.1</td>\n",
       "      <td>August 21 2017</td>\n",
       "      <td>Yes</td>\n",
       "      <td>26 – 27</td>\n",
       "      <td>[26]</td>\n",
       "    </tr>\n",
       "  </tbody>\n",
       "</table>\n",
       "</div>"
      ],
      "text/plain": [
       "                  Name Version number(s) Initial release date Supported  \\\n",
       "0          No codename               1.0    September 23 2008        No   \n",
       "1          No codename               1.1      February 9 2009        No   \n",
       "2              Cupcake               1.5        April 27 2009        No   \n",
       "3                Donut               1.6    September 15 2009        No   \n",
       "4               Eclair         2.0 – 2.1      October 26 2009        No   \n",
       "5                Froyo       2.2 – 2.2.3          May 20 2010        No   \n",
       "6          Gingerbread       2.3 – 2.3.7      December 6 2010        No   \n",
       "7            Honeycomb       3.0 – 3.2.6     February 22 2011        No   \n",
       "8   Ice Cream Sandwich       4.0 – 4.0.4      October 18 2011        No   \n",
       "9           Jelly Bean       4.1 – 4.3.1          July 9 2012        No   \n",
       "10              KitKat       4.4 – 4.4.4      October 31 2013        No   \n",
       "11            Lollipop       5.0 – 5.1.1     November 12 2014        No   \n",
       "12         Marshmallow       6.0 – 6.0.1       October 5 2015        No   \n",
       "13              Nougat       7.0 – 7.1.2       August 22 2016        No   \n",
       "14                Oreo         8.0 – 8.1       August 21 2017       Yes   \n",
       "\n",
       "   API level        References  \n",
       "0          1               [9]  \n",
       "1          2           [9][11]  \n",
       "2          3               NaN  \n",
       "3          4              [12]  \n",
       "4      5 – 7              [13]  \n",
       "5          8              [14]  \n",
       "6     9 – 10              [15]  \n",
       "7    11 – 13              [16]  \n",
       "8    14 – 15              [17]  \n",
       "9    16 – 18              [18]  \n",
       "10   19 – 20              [19]  \n",
       "11   21 – 22              [20]  \n",
       "12        23              [21]  \n",
       "13   24 – 25  [22][23][24][25]  \n",
       "14   26 – 27              [26]  "
      ]
     },
     "execution_count": 26,
     "metadata": {},
     "output_type": "execute_result"
    }
   ],
   "source": [
    "df.head(n=15)"
   ]
  },
  {
   "cell_type": "markdown",
   "metadata": {},
   "source": [
    "### 6. Loading Local Files"
   ]
  },
  {
   "cell_type": "code",
   "execution_count": 27,
   "metadata": {},
   "outputs": [],
   "source": [
    "# with open(\"android.html\", encoding='utf-8') as f:\n",
    "#     page_soup = soup(f, 'html.parser')"
   ]
  }
 ],
 "metadata": {
  "kernelspec": {
   "display_name": "Python 3",
   "language": "python",
   "name": "python3"
  },
  "language_info": {
   "codemirror_mode": {
    "name": "ipython",
    "version": 3
   },
   "file_extension": ".py",
   "mimetype": "text/x-python",
   "name": "python",
   "nbconvert_exporter": "python",
   "pygments_lexer": "ipython3",
   "version": "3.7.7"
  }
 },
 "nbformat": 4,
 "nbformat_minor": 2
}
